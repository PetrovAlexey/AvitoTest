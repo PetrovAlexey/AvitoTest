{
 "cells": [
  {
   "cell_type": "markdown",
   "metadata": {
    "colab_type": "text",
    "id": "lotPD6R47uyI"
   },
   "source": [
    "## Классификация объвлений по категориям"
   ]
  },
  {
   "cell_type": "code",
   "execution_count": 1,
   "metadata": {
    "colab": {},
    "colab_type": "code",
    "id": "INIHGGt17uyL"
   },
   "outputs": [],
   "source": [
    "from lxml import etree\n",
    "import numpy as np\n",
    "import pandas as pd\n",
    "import re\n",
    "import matplotlib.pyplot as plt\n",
    "import collections\n",
    "%matplotlib inline"
   ]
  },
  {
   "cell_type": "markdown",
   "metadata": {
    "colab_type": "text",
    "id": "UlAMYHy77uyQ"
   },
   "source": [
    "Загружаем данные"
   ]
  },
  {
   "cell_type": "code",
   "execution_count": 2,
   "metadata": {
    "colab": {
     "base_uri": "https://localhost:8080/",
     "height": 520
    },
    "colab_type": "code",
    "id": "1TjfMJ9e7uyS",
    "outputId": "17318078-bad2-41ab-a4c5-dd61b766fdf0"
   },
   "outputs": [
    {
     "data": {
      "text/html": [
       "<div>\n",
       "<style scoped>\n",
       "    .dataframe tbody tr th:only-of-type {\n",
       "        vertical-align: middle;\n",
       "    }\n",
       "\n",
       "    .dataframe tbody tr th {\n",
       "        vertical-align: top;\n",
       "    }\n",
       "\n",
       "    .dataframe thead th {\n",
       "        text-align: right;\n",
       "    }\n",
       "</style>\n",
       "<table border=\"1\" class=\"dataframe\">\n",
       "  <thead>\n",
       "    <tr style=\"text-align: right;\">\n",
       "      <th></th>\n",
       "      <th>item_id</th>\n",
       "      <th>title</th>\n",
       "      <th>description</th>\n",
       "      <th>price</th>\n",
       "      <th>category_id</th>\n",
       "    </tr>\n",
       "  </thead>\n",
       "  <tbody>\n",
       "    <tr>\n",
       "      <th>0</th>\n",
       "      <td>0</td>\n",
       "      <td>Картина</td>\n",
       "      <td>Гобелен. Размеры 139х84см.</td>\n",
       "      <td>1000.0</td>\n",
       "      <td>19</td>\n",
       "    </tr>\n",
       "    <tr>\n",
       "      <th>1</th>\n",
       "      <td>1</td>\n",
       "      <td>Стулья из прессованной кожи</td>\n",
       "      <td>Продам недорого 4 стула из светлой прессованно...</td>\n",
       "      <td>1250.0</td>\n",
       "      <td>22</td>\n",
       "    </tr>\n",
       "    <tr>\n",
       "      <th>2</th>\n",
       "      <td>2</td>\n",
       "      <td>Домашняя мини баня</td>\n",
       "      <td>Мини баня МБ-1(мини сауна), предназначена для ...</td>\n",
       "      <td>13000.0</td>\n",
       "      <td>37</td>\n",
       "    </tr>\n",
       "    <tr>\n",
       "      <th>3</th>\n",
       "      <td>3</td>\n",
       "      <td>Эксклюзивная коллекция книг \"Трансаэро\" + подарок</td>\n",
       "      <td>Продам эксклюзивную коллекцию книг, выпущенную...</td>\n",
       "      <td>4000.0</td>\n",
       "      <td>43</td>\n",
       "    </tr>\n",
       "    <tr>\n",
       "      <th>4</th>\n",
       "      <td>4</td>\n",
       "      <td>Ноутбук aser</td>\n",
       "      <td>Продаётся ноутбук ACER e5-511C2TA. Куплен в ко...</td>\n",
       "      <td>19000.0</td>\n",
       "      <td>1</td>\n",
       "    </tr>\n",
       "  </tbody>\n",
       "</table>\n",
       "</div>"
      ],
      "text/plain": [
       "   item_id                                              title  \\\n",
       "0        0                                            Картина   \n",
       "1        1                        Стулья из прессованной кожи   \n",
       "2        2                                 Домашняя мини баня   \n",
       "3        3  Эксклюзивная коллекция книг \"Трансаэро\" + подарок   \n",
       "4        4                                       Ноутбук aser   \n",
       "\n",
       "                                         description    price  category_id  \n",
       "0                         Гобелен. Размеры 139х84см.   1000.0           19  \n",
       "1  Продам недорого 4 стула из светлой прессованно...   1250.0           22  \n",
       "2  Мини баня МБ-1(мини сауна), предназначена для ...  13000.0           37  \n",
       "3  Продам эксклюзивную коллекцию книг, выпущенную...   4000.0           43  \n",
       "4  Продаётся ноутбук ACER e5-511C2TA. Куплен в ко...  19000.0            1  "
      ]
     },
     "execution_count": 2,
     "metadata": {},
     "output_type": "execute_result"
    }
   ],
   "source": [
    "data_train = pd.read_csv(\"./train.csv\")\n",
    "data_train.head(5)"
   ]
  },
  {
   "cell_type": "code",
   "execution_count": 4,
   "metadata": {
    "colab": {},
    "colab_type": "code",
    "id": "zRqZXkDp7uyc"
   },
   "outputs": [],
   "source": [
    "data_target = data_train[\"category_id\"].values\n",
    "corpus = data_train[\"title\"].values\n",
    "feature = data_train[\"price\"].values"
   ]
  },
  {
   "cell_type": "markdown",
   "metadata": {},
   "source": [
    "Разделяем даннын на тестовые и тренировочные(Feature отвечает за цены, X за текстовое представление, y за категории)"
   ]
  },
  {
   "cell_type": "code",
   "execution_count": 5,
   "metadata": {
    "colab": {},
    "colab_type": "code",
    "id": "WdnuNIbb7uyi"
   },
   "outputs": [],
   "source": [
    "from sklearn.model_selection import train_test_split\n",
    "X_train, X_test, Feature_train, Feature_test, y_train, y_test = train_test_split(corpus, feature, data_target, test_size=0.33, random_state=42)"
   ]
  },
  {
   "cell_type": "markdown",
   "metadata": {
    "colab_type": "text",
    "id": "mcCLhsGj7uyg"
   },
   "source": [
    "Пробуем наивный CountVectorizer"
   ]
  },
  {
   "cell_type": "code",
   "execution_count": 6,
   "metadata": {
    "colab": {},
    "colab_type": "code",
    "id": "ViHzce7U7uyn"
   },
   "outputs": [],
   "source": [
    "from sklearn.feature_extraction.text import CountVectorizer, TfidfVectorizer\n",
    "from sklearn.linear_model import LogisticRegression\n",
    "from sklearn.pipeline import Pipeline\n",
    "pipeline = Pipeline([\n",
    "    (\"vectorizer\", CountVectorizer()),\n",
    "    (\"algo\", LogisticRegression(penalty='l1', C=17))\n",
    "])"
   ]
  },
  {
   "cell_type": "code",
   "execution_count": 7,
   "metadata": {},
   "outputs": [
    {
     "data": {
      "text/plain": [
       "Pipeline(memory=None,\n",
       "     steps=[('vectorizer', CountVectorizer(analyzer='word', binary=False, decode_error='strict',\n",
       "        dtype=<class 'numpy.int64'>, encoding='utf-8', input='content',\n",
       "        lowercase=True, max_df=1.0, max_features=None, min_df=1,\n",
       "        ngram_range=(1, 1), preprocessor=None, stop_words=None,\n",
       "       ...ty='l1', random_state=None, solver='liblinear', tol=0.0001,\n",
       "          verbose=0, warm_start=False))])"
      ]
     },
     "execution_count": 7,
     "metadata": {},
     "output_type": "execute_result"
    }
   ],
   "source": [
    "pipeline.fit(X_train, y_train)"
   ]
  },
  {
   "cell_type": "code",
   "execution_count": 8,
   "metadata": {},
   "outputs": [
    {
     "name": "stdout",
     "output_type": "stream",
     "text": [
      "Train_acc: 0.9459, train_f-measure: 0.9459\n"
     ]
    }
   ],
   "source": [
    "from sklearn.metrics import accuracy_score, f1_score\n",
    "from sklearn.metrics.scorer import make_scorer\n",
    "f_scorer = make_scorer(f1_score, average='macro')\n",
    "print(\"Train_acc: {:.4f}, train_f-measure: {:.4f}\".format(\n",
    "    accuracy_score(pipeline.predict(X_train), y_train),\n",
    "    f_scorer(pipeline, X_train, y_train)\n",
    "))"
   ]
  },
  {
   "cell_type": "code",
   "execution_count": 9,
   "metadata": {},
   "outputs": [
    {
     "name": "stdout",
     "output_type": "stream",
     "text": [
      "Test_acc: 0.8345, test_f-measure: 0.8369\n"
     ]
    }
   ],
   "source": [
    "print(\"Test_acc: {:.4f}, test_f-measure: {:.4f}\".format(\n",
    "    accuracy_score(pipeline.predict(X_test), y_test),\n",
    "    f_scorer(pipeline, X_test, y_test)\n",
    "))"
   ]
  },
  {
   "cell_type": "markdown",
   "metadata": {},
   "source": [
    "Добавим знание о цене товара\n",
    "Используюя RF классифицируем по цене"
   ]
  },
  {
   "cell_type": "code",
   "execution_count": 10,
   "metadata": {},
   "outputs": [
    {
     "data": {
      "text/plain": [
       "RandomForestClassifier(bootstrap=True, class_weight=None, criterion='gini',\n",
       "            max_depth=None, max_features='auto', max_leaf_nodes=None,\n",
       "            min_impurity_decrease=0.0, min_impurity_split=None,\n",
       "            min_samples_leaf=1, min_samples_split=2,\n",
       "            min_weight_fraction_leaf=0.0, n_estimators=50, n_jobs=-1,\n",
       "            oob_score=False, random_state=None, verbose=0,\n",
       "            warm_start=False)"
      ]
     },
     "execution_count": 10,
     "metadata": {},
     "output_type": "execute_result"
    }
   ],
   "source": [
    "from sklearn.ensemble import RandomForestClassifier\n",
    "algo_tree = RandomForestClassifier(n_estimators = 50, n_jobs=-1)\n",
    "algo_tree.fit(Feature_train.reshape(-1,1), y_train)"
   ]
  },
  {
   "cell_type": "code",
   "execution_count": 11,
   "metadata": {},
   "outputs": [
    {
     "name": "stdout",
     "output_type": "stream",
     "text": [
      "0.08423248587046013\n"
     ]
    }
   ],
   "source": [
    "print(accuracy_score(algo_tree.predict(Feature_test.reshape(-1,1)), y_test))"
   ]
  },
  {
   "cell_type": "markdown",
   "metadata": {},
   "source": [
    "Не сильно большой Accuracy..\n",
    "Попробуем добавить его к предыдущему результату "
   ]
  },
  {
   "cell_type": "code",
   "execution_count": 34,
   "metadata": {},
   "outputs": [
    {
     "name": "stdout",
     "output_type": "stream",
     "text": [
      "Test_acc: 0.8350\n"
     ]
    }
   ],
   "source": [
    "price_pred = algo_tree.predict_proba(Feature_test.reshape(-1,1))\n",
    "title_pred = pipeline.predict_proba(X_test)\n",
    "pred_prob = price_pred + 3*title_pred\n",
    "pred = [np.argmax(pred_prob[i]) for i in range(0, pred_prob.shape[0])]\n",
    "print(\"Test_acc: {:.4f}\".format(\n",
    "    accuracy_score(pred, y_test),\n",
    "))"
   ]
  },
  {
   "cell_type": "markdown",
   "metadata": {},
   "source": [
    "### Посчитаем accuracy модели на каждом уровне иерархии.\n",
    "Сначала по первому уровню"
   ]
  },
  {
   "cell_type": "code",
   "execution_count": 63,
   "metadata": {
    "colab": {},
    "colab_type": "code",
    "id": "N53VEzdW7u0H"
   },
   "outputs": [
    {
     "name": "stdout",
     "output_type": "stream",
     "text": [
      "['Бытовая электроника' 'Для дома и дачи' 'Личные вещи' 'Хобби и отдых']\n"
     ]
    }
   ],
   "source": [
    "category_file = pd.read_csv(\"./category.csv\")\n",
    "dicte = [(category_file[\"name\"][i].split(\"|\")[0]) for i in range(0,len(category_file))]\n",
    "print(np.unique(dicte))"
   ]
  },
  {
   "cell_type": "code",
   "execution_count": 58,
   "metadata": {
    "colab": {},
    "colab_type": "code",
    "id": "9kP1FsJu7u0M"
   },
   "outputs": [
    {
     "name": "stdout",
     "output_type": "stream",
     "text": [
      "Test_acc: 0.9317\n"
     ]
    }
   ],
   "source": [
    "pred_cat =  [dicte[pred[i]] for i in range(len(pred))]\n",
    "y_test_cat = [dicte[y_test[i]] for i in range(len(y_test))]\n",
    "print(\"Test_acc: {:.4f}\".format(\n",
    "    accuracy_score(pred_cat, y_test_cat),\n",
    "))"
   ]
  },
  {
   "cell_type": "markdown",
   "metadata": {},
   "source": [
    "Затем по второму уровню"
   ]
  },
  {
   "cell_type": "code",
   "execution_count": 66,
   "metadata": {},
   "outputs": [
    {
     "name": "stdout",
     "output_type": "stream",
     "text": [
      "['Аудио и видео' 'Билеты и путешествия' 'Бытовая техника' 'Велосипеды'\n",
      " 'Игры, приставки и программы' 'Книги и журналы' 'Коллекционирование'\n",
      " 'Красота и здоровье' 'Мебель и интерьер' 'Музыкальные инструменты'\n",
      " 'Настольные компьютеры' 'Ноутбуки' 'Одежда, обувь, аксессуары'\n",
      " 'Охота и рыбалка' 'Планшеты и электронные книги'\n",
      " 'Посуда и товары для кухни' 'Растения' 'Ремонт и строительство'\n",
      " 'Спорт и отдых' 'Телефоны' 'Товары для детей и игрушки'\n",
      " 'Товары для компьютера' 'Часы и украшения']\n"
     ]
    }
   ],
   "source": [
    "dicte1 = [(category_file[\"name\"][i].split(\"|\")[1]) for i in range(0,len(category_file))]\n",
    "print(np.unique(dicte1))"
   ]
  },
  {
   "cell_type": "code",
   "execution_count": 67,
   "metadata": {},
   "outputs": [
    {
     "name": "stdout",
     "output_type": "stream",
     "text": [
      "Test_acc: 0.8987\n"
     ]
    }
   ],
   "source": [
    "pred_cat =  [dicte1[pred[i]] for i in range(len(pred))]\n",
    "y_test_cat = [dicte1[y_test[i]] for i in range(len(y_test))]\n",
    "print(\"Test_acc: {:.4f}\".format(\n",
    "    accuracy_score(pred_cat, y_test_cat),\n",
    "))"
   ]
  },
  {
   "cell_type": "markdown",
   "metadata": {},
   "source": [
    "## Применяем к тестовым данным"
   ]
  },
  {
   "cell_type": "code",
   "execution_count": 68,
   "metadata": {},
   "outputs": [
    {
     "data": {
      "text/html": [
       "<div>\n",
       "<style scoped>\n",
       "    .dataframe tbody tr th:only-of-type {\n",
       "        vertical-align: middle;\n",
       "    }\n",
       "\n",
       "    .dataframe tbody tr th {\n",
       "        vertical-align: top;\n",
       "    }\n",
       "\n",
       "    .dataframe thead th {\n",
       "        text-align: right;\n",
       "    }\n",
       "</style>\n",
       "<table border=\"1\" class=\"dataframe\">\n",
       "  <thead>\n",
       "    <tr style=\"text-align: right;\">\n",
       "      <th></th>\n",
       "      <th>item_id</th>\n",
       "      <th>title</th>\n",
       "      <th>description</th>\n",
       "      <th>price</th>\n",
       "    </tr>\n",
       "  </thead>\n",
       "  <tbody>\n",
       "    <tr>\n",
       "      <th>0</th>\n",
       "      <td>489517</td>\n",
       "      <td>Стоик журнальный сталь</td>\n",
       "      <td>продам журнальный столик изготавливаю столы из...</td>\n",
       "      <td>10000.0</td>\n",
       "    </tr>\n",
       "    <tr>\n",
       "      <th>1</th>\n",
       "      <td>489518</td>\n",
       "      <td>iPhone 5 64Gb</td>\n",
       "      <td>Телефон в хорошем состоянии. Комплект, гаранти...</td>\n",
       "      <td>12500.0</td>\n",
       "    </tr>\n",
       "    <tr>\n",
       "      <th>2</th>\n",
       "      <td>489519</td>\n",
       "      <td>Утеплитель</td>\n",
       "      <td>ТЕПЛОПЕЛЕН-ЛИДЕР ТЕПЛА!!! Толщина утеплителя :...</td>\n",
       "      <td>250.0</td>\n",
       "    </tr>\n",
       "    <tr>\n",
       "      <th>3</th>\n",
       "      <td>489520</td>\n",
       "      <td>Пальто демисезонное</td>\n",
       "      <td>Продам пальто женское (букле) в отличном состо...</td>\n",
       "      <td>1700.0</td>\n",
       "    </tr>\n",
       "    <tr>\n",
       "      <th>4</th>\n",
       "      <td>489521</td>\n",
       "      <td>Samsung syncmaster T200N</td>\n",
       "      <td>Условно рабочий, проблема в панели настройки м...</td>\n",
       "      <td>1000.0</td>\n",
       "    </tr>\n",
       "  </tbody>\n",
       "</table>\n",
       "</div>"
      ],
      "text/plain": [
       "   item_id                     title  \\\n",
       "0   489517    Стоик журнальный сталь   \n",
       "1   489518             iPhone 5 64Gb   \n",
       "2   489519                Утеплитель   \n",
       "3   489520       Пальто демисезонное   \n",
       "4   489521  Samsung syncmaster T200N   \n",
       "\n",
       "                                         description    price  \n",
       "0  продам журнальный столик изготавливаю столы из...  10000.0  \n",
       "1  Телефон в хорошем состоянии. Комплект, гаранти...  12500.0  \n",
       "2  ТЕПЛОПЕЛЕН-ЛИДЕР ТЕПЛА!!! Толщина утеплителя :...    250.0  \n",
       "3  Продам пальто женское (букле) в отличном состо...   1700.0  \n",
       "4  Условно рабочий, проблема в панели настройки м...   1000.0  "
      ]
     },
     "execution_count": 68,
     "metadata": {},
     "output_type": "execute_result"
    }
   ],
   "source": [
    "data_train = pd.read_csv(\"./test.csv\")\n",
    "data_train.head(5)"
   ]
  },
  {
   "cell_type": "code",
   "execution_count": 74,
   "metadata": {},
   "outputs": [],
   "source": [
    "corpus = data_train[\"title\"].values\n",
    "feature = data_train[\"price\"].values\n",
    "item_id = data_train[\"item_id\"].values"
   ]
  },
  {
   "cell_type": "code",
   "execution_count": 98,
   "metadata": {},
   "outputs": [],
   "source": [
    "price_pred = algo_tree.predict_proba(feature.reshape(-1,1))\n",
    "title_pred = pipeline.predict_proba(corpus)\n",
    "pred_prob = price_pred + 3*title_pred\n",
    "result = [np.argmax(pred_prob[i]) for i in range(0, pred_prob.shape[0])]\n",
    "d3 = {'item_id': item_id, 'category_id': result}"
   ]
  },
  {
   "cell_type": "code",
   "execution_count": 99,
   "metadata": {},
   "outputs": [],
   "source": [
    "df_result = pd.DataFrame.from_dict(d3)"
   ]
  },
  {
   "cell_type": "code",
   "execution_count": 100,
   "metadata": {},
   "outputs": [
    {
     "data": {
      "text/html": [
       "<div>\n",
       "<style scoped>\n",
       "    .dataframe tbody tr th:only-of-type {\n",
       "        vertical-align: middle;\n",
       "    }\n",
       "\n",
       "    .dataframe tbody tr th {\n",
       "        vertical-align: top;\n",
       "    }\n",
       "\n",
       "    .dataframe thead th {\n",
       "        text-align: right;\n",
       "    }\n",
       "</style>\n",
       "<table border=\"1\" class=\"dataframe\">\n",
       "  <thead>\n",
       "    <tr style=\"text-align: right;\">\n",
       "      <th></th>\n",
       "      <th>item_id</th>\n",
       "      <th>category_id</th>\n",
       "    </tr>\n",
       "  </thead>\n",
       "  <tbody>\n",
       "    <tr>\n",
       "      <th>0</th>\n",
       "      <td>489517</td>\n",
       "      <td>22</td>\n",
       "    </tr>\n",
       "    <tr>\n",
       "      <th>1</th>\n",
       "      <td>489518</td>\n",
       "      <td>0</td>\n",
       "    </tr>\n",
       "    <tr>\n",
       "      <th>2</th>\n",
       "      <td>489519</td>\n",
       "      <td>15</td>\n",
       "    </tr>\n",
       "    <tr>\n",
       "      <th>3</th>\n",
       "      <td>489520</td>\n",
       "      <td>33</td>\n",
       "    </tr>\n",
       "    <tr>\n",
       "      <th>4</th>\n",
       "      <td>489521</td>\n",
       "      <td>13</td>\n",
       "    </tr>\n",
       "    <tr>\n",
       "      <th>5</th>\n",
       "      <td>489522</td>\n",
       "      <td>25</td>\n",
       "    </tr>\n",
       "    <tr>\n",
       "      <th>6</th>\n",
       "      <td>489523</td>\n",
       "      <td>50</td>\n",
       "    </tr>\n",
       "    <tr>\n",
       "      <th>7</th>\n",
       "      <td>489524</td>\n",
       "      <td>16</td>\n",
       "    </tr>\n",
       "    <tr>\n",
       "      <th>8</th>\n",
       "      <td>489525</td>\n",
       "      <td>6</td>\n",
       "    </tr>\n",
       "    <tr>\n",
       "      <th>9</th>\n",
       "      <td>489526</td>\n",
       "      <td>28</td>\n",
       "    </tr>\n",
       "    <tr>\n",
       "      <th>10</th>\n",
       "      <td>489527</td>\n",
       "      <td>26</td>\n",
       "    </tr>\n",
       "    <tr>\n",
       "      <th>11</th>\n",
       "      <td>489528</td>\n",
       "      <td>26</td>\n",
       "    </tr>\n",
       "    <tr>\n",
       "      <th>12</th>\n",
       "      <td>489529</td>\n",
       "      <td>44</td>\n",
       "    </tr>\n",
       "    <tr>\n",
       "      <th>13</th>\n",
       "      <td>489530</td>\n",
       "      <td>46</td>\n",
       "    </tr>\n",
       "    <tr>\n",
       "      <th>14</th>\n",
       "      <td>489531</td>\n",
       "      <td>11</td>\n",
       "    </tr>\n",
       "    <tr>\n",
       "      <th>15</th>\n",
       "      <td>489532</td>\n",
       "      <td>26</td>\n",
       "    </tr>\n",
       "    <tr>\n",
       "      <th>16</th>\n",
       "      <td>489533</td>\n",
       "      <td>39</td>\n",
       "    </tr>\n",
       "    <tr>\n",
       "      <th>17</th>\n",
       "      <td>489534</td>\n",
       "      <td>47</td>\n",
       "    </tr>\n",
       "    <tr>\n",
       "      <th>18</th>\n",
       "      <td>489535</td>\n",
       "      <td>34</td>\n",
       "    </tr>\n",
       "    <tr>\n",
       "      <th>19</th>\n",
       "      <td>489536</td>\n",
       "      <td>46</td>\n",
       "    </tr>\n",
       "    <tr>\n",
       "      <th>20</th>\n",
       "      <td>489537</td>\n",
       "      <td>51</td>\n",
       "    </tr>\n",
       "    <tr>\n",
       "      <th>21</th>\n",
       "      <td>489538</td>\n",
       "      <td>15</td>\n",
       "    </tr>\n",
       "    <tr>\n",
       "      <th>22</th>\n",
       "      <td>489539</td>\n",
       "      <td>26</td>\n",
       "    </tr>\n",
       "    <tr>\n",
       "      <th>23</th>\n",
       "      <td>489540</td>\n",
       "      <td>29</td>\n",
       "    </tr>\n",
       "    <tr>\n",
       "      <th>24</th>\n",
       "      <td>489541</td>\n",
       "      <td>8</td>\n",
       "    </tr>\n",
       "    <tr>\n",
       "      <th>25</th>\n",
       "      <td>489542</td>\n",
       "      <td>34</td>\n",
       "    </tr>\n",
       "    <tr>\n",
       "      <th>26</th>\n",
       "      <td>489543</td>\n",
       "      <td>43</td>\n",
       "    </tr>\n",
       "    <tr>\n",
       "      <th>27</th>\n",
       "      <td>489544</td>\n",
       "      <td>10</td>\n",
       "    </tr>\n",
       "    <tr>\n",
       "      <th>28</th>\n",
       "      <td>489545</td>\n",
       "      <td>50</td>\n",
       "    </tr>\n",
       "    <tr>\n",
       "      <th>29</th>\n",
       "      <td>489546</td>\n",
       "      <td>29</td>\n",
       "    </tr>\n",
       "    <tr>\n",
       "      <th>...</th>\n",
       "      <td>...</td>\n",
       "      <td>...</td>\n",
       "    </tr>\n",
       "    <tr>\n",
       "      <th>243136</th>\n",
       "      <td>732653</td>\n",
       "      <td>48</td>\n",
       "    </tr>\n",
       "    <tr>\n",
       "      <th>243137</th>\n",
       "      <td>732654</td>\n",
       "      <td>46</td>\n",
       "    </tr>\n",
       "    <tr>\n",
       "      <th>243138</th>\n",
       "      <td>732655</td>\n",
       "      <td>2</td>\n",
       "    </tr>\n",
       "    <tr>\n",
       "      <th>243139</th>\n",
       "      <td>732656</td>\n",
       "      <td>10</td>\n",
       "    </tr>\n",
       "    <tr>\n",
       "      <th>243140</th>\n",
       "      <td>732657</td>\n",
       "      <td>33</td>\n",
       "    </tr>\n",
       "    <tr>\n",
       "      <th>243141</th>\n",
       "      <td>732658</td>\n",
       "      <td>53</td>\n",
       "    </tr>\n",
       "    <tr>\n",
       "      <th>243142</th>\n",
       "      <td>732659</td>\n",
       "      <td>47</td>\n",
       "    </tr>\n",
       "    <tr>\n",
       "      <th>243143</th>\n",
       "      <td>732660</td>\n",
       "      <td>17</td>\n",
       "    </tr>\n",
       "    <tr>\n",
       "      <th>243144</th>\n",
       "      <td>732661</td>\n",
       "      <td>34</td>\n",
       "    </tr>\n",
       "    <tr>\n",
       "      <th>243145</th>\n",
       "      <td>732662</td>\n",
       "      <td>8</td>\n",
       "    </tr>\n",
       "    <tr>\n",
       "      <th>243146</th>\n",
       "      <td>732663</td>\n",
       "      <td>29</td>\n",
       "    </tr>\n",
       "    <tr>\n",
       "      <th>243147</th>\n",
       "      <td>732664</td>\n",
       "      <td>27</td>\n",
       "    </tr>\n",
       "    <tr>\n",
       "      <th>243148</th>\n",
       "      <td>732665</td>\n",
       "      <td>15</td>\n",
       "    </tr>\n",
       "    <tr>\n",
       "      <th>243149</th>\n",
       "      <td>732666</td>\n",
       "      <td>1</td>\n",
       "    </tr>\n",
       "    <tr>\n",
       "      <th>243150</th>\n",
       "      <td>732667</td>\n",
       "      <td>12</td>\n",
       "    </tr>\n",
       "    <tr>\n",
       "      <th>243151</th>\n",
       "      <td>732668</td>\n",
       "      <td>44</td>\n",
       "    </tr>\n",
       "    <tr>\n",
       "      <th>243152</th>\n",
       "      <td>732669</td>\n",
       "      <td>40</td>\n",
       "    </tr>\n",
       "    <tr>\n",
       "      <th>243153</th>\n",
       "      <td>732670</td>\n",
       "      <td>14</td>\n",
       "    </tr>\n",
       "    <tr>\n",
       "      <th>243154</th>\n",
       "      <td>732671</td>\n",
       "      <td>53</td>\n",
       "    </tr>\n",
       "    <tr>\n",
       "      <th>243155</th>\n",
       "      <td>732672</td>\n",
       "      <td>36</td>\n",
       "    </tr>\n",
       "    <tr>\n",
       "      <th>243156</th>\n",
       "      <td>732673</td>\n",
       "      <td>43</td>\n",
       "    </tr>\n",
       "    <tr>\n",
       "      <th>243157</th>\n",
       "      <td>732674</td>\n",
       "      <td>13</td>\n",
       "    </tr>\n",
       "    <tr>\n",
       "      <th>243158</th>\n",
       "      <td>732675</td>\n",
       "      <td>4</td>\n",
       "    </tr>\n",
       "    <tr>\n",
       "      <th>243159</th>\n",
       "      <td>732676</td>\n",
       "      <td>20</td>\n",
       "    </tr>\n",
       "    <tr>\n",
       "      <th>243160</th>\n",
       "      <td>732677</td>\n",
       "      <td>31</td>\n",
       "    </tr>\n",
       "    <tr>\n",
       "      <th>243161</th>\n",
       "      <td>732678</td>\n",
       "      <td>23</td>\n",
       "    </tr>\n",
       "    <tr>\n",
       "      <th>243162</th>\n",
       "      <td>732679</td>\n",
       "      <td>38</td>\n",
       "    </tr>\n",
       "    <tr>\n",
       "      <th>243163</th>\n",
       "      <td>732680</td>\n",
       "      <td>7</td>\n",
       "    </tr>\n",
       "    <tr>\n",
       "      <th>243164</th>\n",
       "      <td>732681</td>\n",
       "      <td>18</td>\n",
       "    </tr>\n",
       "    <tr>\n",
       "      <th>243165</th>\n",
       "      <td>732682</td>\n",
       "      <td>29</td>\n",
       "    </tr>\n",
       "  </tbody>\n",
       "</table>\n",
       "<p>243166 rows × 2 columns</p>\n",
       "</div>"
      ],
      "text/plain": [
       "        item_id  category_id\n",
       "0        489517           22\n",
       "1        489518            0\n",
       "2        489519           15\n",
       "3        489520           33\n",
       "4        489521           13\n",
       "5        489522           25\n",
       "6        489523           50\n",
       "7        489524           16\n",
       "8        489525            6\n",
       "9        489526           28\n",
       "10       489527           26\n",
       "11       489528           26\n",
       "12       489529           44\n",
       "13       489530           46\n",
       "14       489531           11\n",
       "15       489532           26\n",
       "16       489533           39\n",
       "17       489534           47\n",
       "18       489535           34\n",
       "19       489536           46\n",
       "20       489537           51\n",
       "21       489538           15\n",
       "22       489539           26\n",
       "23       489540           29\n",
       "24       489541            8\n",
       "25       489542           34\n",
       "26       489543           43\n",
       "27       489544           10\n",
       "28       489545           50\n",
       "29       489546           29\n",
       "...         ...          ...\n",
       "243136   732653           48\n",
       "243137   732654           46\n",
       "243138   732655            2\n",
       "243139   732656           10\n",
       "243140   732657           33\n",
       "243141   732658           53\n",
       "243142   732659           47\n",
       "243143   732660           17\n",
       "243144   732661           34\n",
       "243145   732662            8\n",
       "243146   732663           29\n",
       "243147   732664           27\n",
       "243148   732665           15\n",
       "243149   732666            1\n",
       "243150   732667           12\n",
       "243151   732668           44\n",
       "243152   732669           40\n",
       "243153   732670           14\n",
       "243154   732671           53\n",
       "243155   732672           36\n",
       "243156   732673           43\n",
       "243157   732674           13\n",
       "243158   732675            4\n",
       "243159   732676           20\n",
       "243160   732677           31\n",
       "243161   732678           23\n",
       "243162   732679           38\n",
       "243163   732680            7\n",
       "243164   732681           18\n",
       "243165   732682           29\n",
       "\n",
       "[243166 rows x 2 columns]"
      ]
     },
     "execution_count": 100,
     "metadata": {},
     "output_type": "execute_result"
    }
   ],
   "source": [
    "df_result"
   ]
  },
  {
   "cell_type": "code",
   "execution_count": 101,
   "metadata": {},
   "outputs": [],
   "source": [
    "df_result.to_csv(\"result.csv\", sep='\\t')"
   ]
  },
  {
   "cell_type": "code",
   "execution_count": null,
   "metadata": {},
   "outputs": [],
   "source": []
  }
 ],
 "metadata": {
  "colab": {
   "collapsed_sections": [],
   "name": "Russia_reg.ipynb",
   "provenance": [],
   "toc_visible": true,
   "version": "0.3.2"
  },
  "kernelspec": {
   "display_name": "Python 3",
   "language": "python",
   "name": "python3"
  },
  "language_info": {
   "codemirror_mode": {
    "name": "ipython",
    "version": 3
   },
   "file_extension": ".py",
   "mimetype": "text/x-python",
   "name": "python",
   "nbconvert_exporter": "python",
   "pygments_lexer": "ipython3",
   "version": "3.6.5"
  }
 },
 "nbformat": 4,
 "nbformat_minor": 1
}
